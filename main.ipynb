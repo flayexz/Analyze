{
 "cells": [
  {
   "cell_type": "markdown",
   "source": [
    "Предсказываем количество выздоровевших по количеству заболевших и болеющих"
   ],
   "metadata": {
    "collapsed": false,
    "pycharm": {
     "name": "#%% md\n"
    }
   }
  },
  {
   "cell_type": "code",
   "execution_count": 1,
   "outputs": [],
   "source": [
    "import pandas as pd\n",
    "\n",
    "from catboost import CatBoostRegressor"
   ],
   "metadata": {
    "collapsed": false,
    "pycharm": {
     "name": "#%%\n"
    }
   }
  },
  {
   "cell_type": "markdown",
   "source": [
    "Берем Подтвержденных мертвых и выздоровивших"
   ],
   "metadata": {
    "collapsed": false
   }
  },
  {
   "cell_type": "code",
   "execution_count": 2,
   "outputs": [],
   "source": [
    "data = pd.read_csv('covid_19_data.csv').iloc[:,5:8]"
   ],
   "metadata": {
    "collapsed": false,
    "pycharm": {
     "name": "#%%\n"
    }
   }
  },
  {
   "cell_type": "markdown",
   "source": [
    "Берем данные для обучения"
   ],
   "metadata": {
    "collapsed": false
   }
  },
  {
   "cell_type": "code",
   "execution_count": 3,
   "outputs": [],
   "source": [
    "train_data = data.iloc[20:100,0:2]\n",
    "train_label = data.iloc[20:100,2]"
   ],
   "metadata": {
    "collapsed": false,
    "pycharm": {
     "name": "#%%\n"
    }
   }
  },
  {
   "cell_type": "markdown",
   "source": [
    "Данные на которых не обучались"
   ],
   "metadata": {
    "collapsed": false
   }
  },
  {
   "cell_type": "code",
   "execution_count": 4,
   "outputs": [],
   "source": [
    "test_data = data.iloc[0:20,0:2]\n",
    "test_label = data.iloc[0:20,2]"
   ],
   "metadata": {
    "collapsed": false,
    "pycharm": {
     "name": "#%%\n"
    }
   }
  },
  {
   "cell_type": "markdown",
   "source": [
    "Обучаем модель"
   ],
   "metadata": {
    "collapsed": false,
    "pycharm": {
     "name": "#%% md\n"
    }
   }
  },
  {
   "cell_type": "code",
   "execution_count": 5,
   "outputs": [
    {
     "name": "stdout",
     "output_type": "stream",
     "text": [
      "0:\tlearn: 2.7495082\ttotal: 135ms\tremaining: 2.57s\n",
      "1:\tlearn: 1.6796427\ttotal: 135ms\tremaining: 1.22s\n",
      "2:\tlearn: 1.2696406\ttotal: 136ms\tremaining: 769ms\n",
      "3:\tlearn: 0.8067093\ttotal: 136ms\tremaining: 543ms\n",
      "4:\tlearn: 0.6277761\ttotal: 136ms\tremaining: 408ms\n",
      "5:\tlearn: 0.4753328\ttotal: 136ms\tremaining: 318ms\n",
      "6:\tlearn: 0.3823663\ttotal: 137ms\tremaining: 254ms\n",
      "7:\tlearn: 0.3151825\ttotal: 137ms\tremaining: 205ms\n",
      "8:\tlearn: 0.2426424\ttotal: 138ms\tremaining: 169ms\n",
      "9:\tlearn: 0.1964192\ttotal: 139ms\tremaining: 139ms\n",
      "10:\tlearn: 0.1648654\ttotal: 139ms\tremaining: 114ms\n",
      "11:\tlearn: 0.1045271\ttotal: 176ms\tremaining: 118ms\n",
      "12:\tlearn: 0.0826549\ttotal: 267ms\tremaining: 144ms\n",
      "13:\tlearn: 0.0577400\ttotal: 463ms\tremaining: 199ms\n",
      "14:\tlearn: 0.0455630\ttotal: 501ms\tremaining: 167ms\n",
      "15:\tlearn: 0.0325511\ttotal: 701ms\tremaining: 175ms\n",
      "16:\tlearn: 0.0255407\ttotal: 900ms\tremaining: 159ms\n",
      "17:\tlearn: 0.0189972\ttotal: 1.09s\tremaining: 121ms\n",
      "18:\tlearn: 0.0153391\ttotal: 1.12s\tremaining: 59.1ms\n",
      "19:\tlearn: 0.0094866\ttotal: 1.32s\tremaining: 0us\n"
     ]
    },
    {
     "data": {
      "text/plain": "<catboost.core.CatBoostRegressor at 0x2578b328310>"
     },
     "execution_count": 5,
     "metadata": {},
     "output_type": "execute_result"
    }
   ],
   "source": [
    "model = CatBoostRegressor(iterations=20,learning_rate=1,depth=16)\n",
    "model.fit(train_data, train_label)"
   ],
   "metadata": {
    "collapsed": false,
    "pycharm": {
     "name": "#%%\n"
    }
   }
  },
  {
   "cell_type": "markdown",
   "source": [
    "Предсказываем"
   ],
   "metadata": {
    "collapsed": false,
    "pycharm": {
     "name": "#%% md\n"
    }
   }
  },
  {
   "cell_type": "code",
   "execution_count": 6,
   "outputs": [
    {
     "name": "stdout",
     "output_type": "stream",
     "text": [
      "-0.000995285346882091 0.0\n",
      "0.007667064238346066 0.0\n",
      "-0.003448681363588668 0.0\n",
      "-0.000995285346882091 0.0\n",
      "-0.0011196960152424218 0.0\n",
      "0.00027988539325340955 0.0\n",
      "0.002500630000673465 0.0\n",
      "-0.000995285346882091 0.0\n",
      "0.003915265089324493 0.0\n",
      "-0.000995285346882091 0.0\n",
      "-0.0011196960152424218 0.0\n",
      "0.0019231331008604524 0.0\n",
      "-0.0011196960152424218 0.0\n",
      "27.990247773773152 28.0\n",
      "0.003915265089324493 0.0\n",
      "-0.0011196960152424218 0.0\n",
      "-0.000995285346882091 0.0\n",
      "0.002500630000673465 0.0\n",
      "-0.0011196960152424218 0.0\n",
      "0.002500630000673465 0.0\n"
     ]
    }
   ],
   "source": [
    "preds = model.predict(test_data)\n",
    "for i in range(len(preds)):\n",
    "    print(preds[i], test_label[i])"
   ],
   "metadata": {
    "collapsed": false,
    "pycharm": {
     "name": "#%%\n"
    }
   }
  },
  {
   "cell_type": "code",
   "execution_count": 6,
   "outputs": [],
   "source": [],
   "metadata": {
    "collapsed": false,
    "pycharm": {
     "name": "#%%"
    }
   }
  }
 ],
 "metadata": {
  "kernelspec": {
   "display_name": "Python 3",
   "language": "python",
   "name": "python3"
  },
  "language_info": {
   "codemirror_mode": {
    "name": "ipython",
    "version": 2
   },
   "file_extension": ".py",
   "mimetype": "text/x-python",
   "name": "python",
   "nbconvert_exporter": "python",
   "pygments_lexer": "ipython2",
   "version": "2.7.6"
  }
 },
 "nbformat": 4,
 "nbformat_minor": 0
}
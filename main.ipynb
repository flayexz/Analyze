{
 "cells": [
  {
   "cell_type": "markdown",
   "source": [
    "Предсказываем количество выздоровевших по количеству заболевших и болеющих"
   ],
   "metadata": {
    "collapsed": false,
    "pycharm": {
     "name": "#%% md\n"
    }
   }
  },
  {
   "cell_type": "code",
   "execution_count": 2,
   "outputs": [],
   "source": [
    "import pandas as pd\n",
    "\n",
    "from catboost import CatBoostRegressor"
   ],
   "metadata": {
    "collapsed": false,
    "pycharm": {
     "name": "#%%\n"
    }
   }
  },
  {
   "cell_type": "markdown",
   "source": [
    "Берем Подтвержденных мертвых и выздоровивших"
   ],
   "metadata": {
    "collapsed": false
   }
  },
  {
   "cell_type": "code",
   "execution_count": 3,
   "outputs": [],
   "source": [
    "data = pd.read_csv('covid_19_data.csv').iloc[:,5:8]"
   ],
   "metadata": {
    "collapsed": false,
    "pycharm": {
     "name": "#%%\n"
    }
   }
  },
  {
   "cell_type": "markdown",
   "source": [
    "Берем данные для обучения"
   ],
   "metadata": {
    "collapsed": false
   }
  },
  {
   "cell_type": "code",
   "execution_count": 4,
   "outputs": [],
   "source": [
    "train_data = data.iloc[20:100,0:2]\n",
    "train_label = data.iloc[20:100,2]"
   ],
   "metadata": {
    "collapsed": false,
    "pycharm": {
     "name": "#%%\n"
    }
   }
  },
  {
   "cell_type": "markdown",
   "source": [
    "Данные на которых не обучались"
   ],
   "metadata": {
    "collapsed": false
   }
  },
  {
   "cell_type": "code",
   "execution_count": 5,
   "outputs": [],
   "source": [
    "test_data = data.iloc[0:20,0:2]\n",
    "test_label = data.iloc[0:20,2]"
   ],
   "metadata": {
    "collapsed": false,
    "pycharm": {
     "name": "#%%\n"
    }
   }
  },
  {
   "cell_type": "markdown",
   "source": [
    "Обучаем модель"
   ],
   "metadata": {
    "collapsed": false,
    "pycharm": {
     "name": "#%% md\n"
    }
   }
  },
  {
   "cell_type": "code",
   "execution_count": 6,
   "outputs": [
    {
     "name": "stdout",
     "output_type": "stream",
     "text": [
      "0:\tlearn: 2.7434999\ttotal: 146ms\tremaining: 2.77s\n",
      "1:\tlearn: 1.8568933\ttotal: 146ms\tremaining: 1.31s\n",
      "2:\tlearn: 1.3095487\ttotal: 146ms\tremaining: 828ms\n",
      "3:\tlearn: 0.8234100\ttotal: 146ms\tremaining: 585ms\n",
      "4:\tlearn: 0.6681659\ttotal: 146ms\tremaining: 439ms\n",
      "5:\tlearn: 0.5696712\ttotal: 147ms\tremaining: 342ms\n",
      "6:\tlearn: 0.4658037\ttotal: 147ms\tremaining: 273ms\n",
      "7:\tlearn: 0.4180921\ttotal: 147ms\tremaining: 220ms\n",
      "8:\tlearn: 0.3733540\ttotal: 151ms\tremaining: 185ms\n",
      "9:\tlearn: 0.3461475\ttotal: 156ms\tremaining: 156ms\n",
      "10:\tlearn: 0.3300415\ttotal: 160ms\tremaining: 131ms\n",
      "11:\tlearn: 0.2559794\ttotal: 350ms\tremaining: 233ms\n",
      "12:\tlearn: 0.2501933\ttotal: 350ms\tremaining: 189ms\n",
      "13:\tlearn: 0.2459847\ttotal: 355ms\tremaining: 152ms\n",
      "14:\tlearn: 0.2300193\ttotal: 553ms\tremaining: 184ms\n",
      "15:\tlearn: 0.2288915\ttotal: 553ms\tremaining: 138ms\n",
      "16:\tlearn: 0.2279592\ttotal: 557ms\tremaining: 98.3ms\n",
      "17:\tlearn: 0.2274381\ttotal: 596ms\tremaining: 66.2ms\n",
      "18:\tlearn: 0.2245920\ttotal: 793ms\tremaining: 41.7ms\n",
      "19:\tlearn: 0.2244769\ttotal: 793ms\tremaining: 0us\n"
     ]
    },
    {
     "data": {
      "text/plain": "<catboost.core.CatBoostRegressor at 0x2c0d12608e0>"
     },
     "execution_count": 6,
     "metadata": {},
     "output_type": "execute_result"
    }
   ],
   "source": [
    "model = CatBoostRegressor(iterations=20,learning_rate=1,depth=16)\n",
    "model.fit(train_data, train_label)"
   ],
   "metadata": {
    "collapsed": false,
    "pycharm": {
     "name": "#%%\n"
    }
   }
  },
  {
   "cell_type": "markdown",
   "source": [
    "Предсказываем"
   ],
   "metadata": {
    "collapsed": false,
    "pycharm": {
     "name": "#%% md\n"
    }
   }
  },
  {
   "cell_type": "code",
   "execution_count": 7,
   "outputs": [
    {
     "name": "stdout",
     "output_type": "stream",
     "text": [
      "0.00144674506486564 0.0\n",
      "0.0018839769089151748 0.0\n",
      "0.014853085702196456 0.0\n",
      "0.00144674506486564 0.0\n",
      "0.0009475682749806591 0.0\n",
      "0.0003348918457699579 0.0\n",
      "0.0030422817020017145 0.0\n",
      "0.00144674506486564 0.0\n",
      "0.9317960208234616 0.0\n",
      "0.00144674506486564 0.0\n",
      "0.0009475682749806591 0.0\n",
      "0.005719289359139346 0.0\n",
      "0.0009475682749806591 0.0\n",
      "27.99954762180288 28.0\n",
      "0.9317960208234616 0.0\n",
      "0.0009475682749806591 0.0\n",
      "0.00144674506486564 0.0\n",
      "0.0030422817020017145 0.0\n",
      "0.0009475682749806591 0.0\n",
      "0.0030422817020017145 0.0\n"
     ]
    }
   ],
   "source": [
    "preds = model.predict(test_data)\n",
    "for i in range(len(preds)):\n",
    "    print(preds[i], test_label[i])"
   ],
   "metadata": {
    "collapsed": false,
    "pycharm": {
     "name": "#%%\n"
    }
   }
  },
  {
   "cell_type": "code",
   "execution_count": 7,
   "outputs": [],
   "source": [],
   "metadata": {
    "collapsed": false,
    "pycharm": {
     "name": "#%%\n"
    }
   }
  }
 ],
 "metadata": {
  "kernelspec": {
   "display_name": "Python 3",
   "language": "python",
   "name": "python3"
  },
  "language_info": {
   "codemirror_mode": {
    "name": "ipython",
    "version": 2
   },
   "file_extension": ".py",
   "mimetype": "text/x-python",
   "name": "python",
   "nbconvert_exporter": "python",
   "pygments_lexer": "ipython2",
   "version": "2.7.6"
  }
 },
 "nbformat": 4,
 "nbformat_minor": 0
}